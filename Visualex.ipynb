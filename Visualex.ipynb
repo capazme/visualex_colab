{
  "cells": [
    {
      "cell_type": "markdown",
      "metadata": {
        "id": "d_x_0bLrjjKZ"
      },
      "source": [
        "# Install dependencies\n"
      ]
    },
    {
      "cell_type": "code",
      "execution_count": null,
      "metadata": {
        "id": "abmskV6Efml5",
        "vscode": {
          "languageId": "powershell"
        }
      },
      "outputs": [],
      "source": [
        "!pip install -U tk tensorrt PyPDF2 tqdm ipywidgets spacy"
      ]
    },
    {
      "cell_type": "code",
      "execution_count": null,
      "metadata": {
        "id": "55uD_9rfjMao",
        "vscode": {
          "languageId": "powershell"
        }
      },
      "outputs": [],
      "source": [
        "!python -m spacy download it_core_news_lg"
      ]
    },
    {
      "cell_type": "markdown",
      "metadata": {
        "id": "pMdSXVtzj2pj"
      },
      "source": [
        "# Pre-training"
      ]
    },
    {
      "cell_type": "code",
      "execution_count": 18,
      "metadata": {
        "id": "NjAG9IKCgFgb",
        "tags": []
      },
      "outputs": [],
      "source": [
        "import spacy\n",
        "from spacy.tokens import DocBin\n",
        "from tqdm import tqdm\n",
        "import json\n",
        "import sys\n",
        "\n",
        "def writefile(filename, text):\n",
        "    with open(filename, \"w\" ) as f:\n",
        "        f.write(text)\n",
        "    f.close\n",
        "    return text\n",
        "\n",
        "def readfile(filename):\n",
        "    with open(filename, \"r\" ) as f:\n",
        "        text = f.read()\n",
        "    f.close\n",
        "    return text\n",
        "\n",
        "def readjson(filename):\n",
        "    with open(filename, \"r\" ) as f:\n",
        "        data = json.load(f)\n",
        "    return data\n",
        "\n",
        "def writejson(filename, data):\n",
        "    with open(filename, \"w\" ) as f:\n",
        "        f.write(json.dump(data))\n",
        "    return True\n",
        "\n",
        "def readbyte(filename):\n",
        "    with open(filename, \"rb\") as f:\n",
        "        data = f.read\n",
        "    f.close\n",
        "    return data\n",
        "\n",
        "def writebyte(filename, byte):\n",
        "    with open(filename, \"wb\" ) as f:\n",
        "        f.write(byte)\n",
        "    f.close\n",
        "    return byte\n",
        "\n",
        "# Estraggo il nome del file dall'input o dalla riga di comando\n",
        "# aggiungo alla stringa l'estensione .pdf o .json\n",
        "# ask 0 = file generico\n",
        "# ask 1 = modulo (detector.py)\n",
        "# ask 2 = training file [.json] (setup_pretrain.py)\n",
        "# ask 3 = docfile [.spacy]\n",
        "def argvfilename(filename, type=\"none\", ask = \"0\"):\n",
        "    if len(sys.argv) > 1:\n",
        "        filename = sys.argv[1]\n",
        "    else:\n",
        "        if filename == \"\":\n",
        "            filename = input(ask)\n",
        "        else:\n",
        "            filename=filename\n",
        "\n",
        "        if type != \"none\":\n",
        "            if type not in filename:\n",
        "                if \".\" not in filename[:-1]:\n",
        "                    filename = filename + \".\" + type\n",
        "            else:\n",
        "                    filename = filename + type\n",
        "        return filename\n",
        "\n",
        "# Estraggo eventualmente il numero della pagina dall'input o dalla riga di comando\n",
        "# aggiungo alla stringa l'estensione .pdf\n",
        "# Default \"all\" --> ?! inutile ?!\n",
        "def argvpagenum(pagenum=\"all\"):\n",
        "    if len(sys.argv) > 2:\n",
        "        pagenum = sys.argv[2]\n",
        "    return pagenum"
      ]
    },
    {
      "cell_type": "code",
      "execution_count": 22,
      "metadata": {
        "id": "TkEVXvbzJ1Rj"
      },
      "outputs": [],
      "source": [
        "import spacy\n",
        "from spacy.tokens import DocBin\n",
        "import json\n",
        "\n",
        "def getpretrain(trainfilename):\n",
        "    nlp = spacy.blank(\"it\") # Carico il modello spacy\n",
        "    db = DocBin() # Creo l'oggetto DocBin\n",
        "    with open(\"./models/\" + trainfilename) as f:\n",
        "        print(\"Apro \" + trainfilename + \"\\n\")\n",
        "        TRAIN_DATA = json.load(f)\n",
        "\n",
        "    # Raccolgo le informazioni su ogni dato usando la notazione Span di SpaCy\n",
        "    for annotation in TRAIN_DATA:\n",
        "        text = annotation[\"data\"][\"text\"]\n",
        "        entities = annotation[\"annotations\"][0][\"result\"]\n",
        "        doc = nlp(text)\n",
        "        ents = []\n",
        "        for entity in entities:\n",
        "            start = entity[\"value\"][\"start\"]\n",
        "            end = entity[\"value\"][\"end\"]\n",
        "            label = entity[\"value\"][\"labels\"][0]\n",
        "            span = doc.char_span(start, end, label=label, alignment_mode=\"contract\")\n",
        "            if span is None:\n",
        "                print(\"Skipping entity\")\n",
        "            else:\n",
        "                ents.append(span)\n",
        "        doc.ents = ents\n",
        "        db.add(doc)\n",
        "    output_name = trainfilename[0:-4]+\"spacy\"\n",
        "    db.to_disk(\"./models/\"+ output_name) # Salvo l'oggetto DocBin\n",
        "    print(\"File .spacy creato\")\n",
        "    return output_name"
      ]
    },
    {
      "cell_type": "code",
      "execution_count": 23,
      "metadata": {
        "id": "CyOmCZSNVJCk"
      },
      "outputs": [],
      "source": [
        "trainfile = \"data2.json\"\n"
      ]
    },
    {
      "cell_type": "code",
      "execution_count": 25,
      "metadata": {
        "colab": {
          "base_uri": "https://localhost:8080/"
        },
        "id": "WYWI6UdEVMEp",
        "outputId": "e0569b04-8475-4cad-ba34-8f7e8e075f48"
      },
      "outputs": [
        {
          "name": "stdout",
          "output_type": "stream",
          "text": [
            "Apro training_label.json\n",
            "\n",
            "Skipping entity\n",
            "File .spacy creato\n"
          ]
        }
      ],
      "source": [
        "spacyfile = getpretrain(trainfile)"
      ]
    },
    {
      "cell_type": "code",
      "execution_count": null,
      "metadata": {
        "id": "1-2ucWJEaelf",
        "vscode": {
          "languageId": "powershell"
        }
      },
      "outputs": [],
      "source": [
        "# CONVERTO DA CONLL\n",
        "%spacy convert ./$trainfile -c conll ."
      ]
    },
    {
      "cell_type": "code",
      "execution_count": 26,
      "metadata": {
        "colab": {
          "base_uri": "https://localhost:8080/"
        },
        "id": "0Cu_XnvcjXbZ",
        "outputId": "d9346269-2f04-46da-dadb-ac26247920ed",
        "vscode": {
          "languageId": "powershell"
        }
      },
      "outputs": [
        {
          "name": "stdout",
          "output_type": "stream",
          "text": [
            "\u001b[38;5;4mℹ Generated config template specific for your use case\u001b[0m\n",
            "- Language: it\n",
            "- Pipeline: ner\n",
            "- Optimize for: accuracy\n",
            "- Hardware: CPU\n",
            "- Transformer: None\n",
            "\u001b[38;5;2m✔ Auto-filled config with all values\u001b[0m\n",
            "\u001b[38;5;2m✔ Saved config\u001b[0m\n",
            "tools/config.cfg\n",
            "You can now add your data and train your pipeline:\n",
            "python -m spacy train config.cfg --paths.train ./train.spacy --paths.dev ./dev.spacy\n"
          ]
        }
      ],
      "source": [
        "!python -m spacy init config tools/config.cfg --lang it --pipeline ner --optimize accuracy -F"
      ]
    },
    {
      "cell_type": "markdown",
      "metadata": {
        "id": "BorLsTAYkPxh"
      },
      "source": [
        "# TRAINING"
      ]
    },
    {
      "cell_type": "code",
      "execution_count": 29,
      "metadata": {
        "colab": {
          "base_uri": "https://localhost:8080/"
        },
        "id": "GYmJ7kXYjbKH",
        "outputId": "e5dc6322-147f-4437-cff4-e5a8a33671db",
        "vscode": {
          "languageId": "powershell"
        }
      },
      "outputs": [
        {
          "name": "stdout",
          "output_type": "stream",
          "text": [
            "\u001b[38;5;4mℹ Saving to output directory: models\u001b[0m\n",
            "\u001b[38;5;4mℹ Using CPU\u001b[0m\n",
            "\u001b[1m\n",
            "=========================== Initializing pipeline ===========================\u001b[0m\n",
            "\u001b[38;5;2m✔ Initialized pipeline\u001b[0m\n",
            "\u001b[1m\n",
            "============================= Training pipeline =============================\u001b[0m\n",
            "\u001b[38;5;4mℹ Pipeline: ['tok2vec', 'ner']\u001b[0m\n",
            "\u001b[38;5;4mℹ Initial learn rate: 0.001\u001b[0m\n",
            "E    #       LOSS TOK2VEC  LOSS NER  ENTS_F  ENTS_P  ENTS_R  SCORE \n",
            "---  ------  ------------  --------  ------  ------  ------  ------\n",
            "  0       0          0.00     48.48    0.00    0.00    0.00    0.00\n",
            "  1     200        958.66   1592.17    0.00    0.00    0.00    0.00\n",
            "  2     400        821.65    937.02   12.72   12.86   12.59    0.13\n",
            "  3     600       1280.17    924.49   23.85   34.67   18.18    0.24\n",
            "  5     800       2354.20    976.99   12.17   13.33   11.19    0.12\n",
            "  7    1000       1540.97    882.34   19.35   19.85   18.88    0.19\n",
            "  9    1200       2478.99   1363.18   40.14   39.07   41.26    0.40\n",
            " 11    1400      10615.28   1881.97   29.54   37.23   24.48    0.30\n",
            " 14    1600       7520.39   2363.41   29.52   31.25   27.97    0.30\n",
            " 18    1800       9803.14   2523.25   48.89   51.97   46.15    0.49\n",
            " 23    2000      13731.23   2550.43   58.87   59.71   58.04    0.59\n",
            " 29    2200      12088.81   1947.98   75.54   77.78   73.43    0.76\n",
            " 36    2400       3481.32   1489.12   91.99   91.67   92.31    0.92\n",
            " 44    2600       1996.36   1054.83   90.21   90.21   90.21    0.90\n",
            "\n",
            "Aborted!\n"
          ]
        }
      ],
      "source": [
        "!python -m spacy train ./tools/config.cfg --output ./models --paths.train ./models/$spacyfile --paths.dev ./models/$spacyfile"
      ]
    },
    {
      "cell_type": "markdown",
      "metadata": {
        "id": "Y9146ZvhfWLg"
      },
      "source": [
        "# READ & WRITE"
      ]
    },
    {
      "cell_type": "code",
      "execution_count": 37,
      "metadata": {
        "colab": {
          "base_uri": "https://localhost:8080/",
          "height": 378
        },
        "id": "CzEv5GYRfjVO",
        "outputId": "b5faadda-6d78-4e77-831f-21a7cf253893"
      },
      "outputs": [
        {
          "ename": "ModuleNotFoundError",
          "evalue": "ignored",
          "output_type": "error",
          "traceback": [
            "\u001b[0;31m---------------------------------------------------------------------------\u001b[0m",
            "\u001b[0;31mModuleNotFoundError\u001b[0m                       Traceback (most recent call last)",
            "\u001b[0;32m<ipython-input-37-63f9258e7c6b>\u001b[0m in \u001b[0;36m<cell line: 3>\u001b[0;34m()\u001b[0m\n\u001b[1;32m      1\u001b[0m \u001b[0;32mimport\u001b[0m \u001b[0mtkinter\u001b[0m \u001b[0;32mas\u001b[0m \u001b[0mtk\u001b[0m\u001b[0;34m\u001b[0m\u001b[0;34m\u001b[0m\u001b[0m\n\u001b[1;32m      2\u001b[0m \u001b[0;32mfrom\u001b[0m \u001b[0mtkinter\u001b[0m \u001b[0;32mimport\u001b[0m \u001b[0mfiledialog\u001b[0m\u001b[0;34m\u001b[0m\u001b[0;34m\u001b[0m\u001b[0m\n\u001b[0;32m----> 3\u001b[0;31m \u001b[0;32mimport\u001b[0m \u001b[0mPyPDF2\u001b[0m\u001b[0;34m\u001b[0m\u001b[0;34m\u001b[0m\u001b[0m\n\u001b[0m\u001b[1;32m      4\u001b[0m \u001b[0;34m\u001b[0m\u001b[0m\n\u001b[1;32m      5\u001b[0m \u001b[0;32mdef\u001b[0m \u001b[0mdeletenwl\u001b[0m\u001b[0;34m(\u001b[0m\u001b[0mtext\u001b[0m\u001b[0;34m)\u001b[0m\u001b[0;34m:\u001b[0m\u001b[0;34m\u001b[0m\u001b[0;34m\u001b[0m\u001b[0m\n",
            "\u001b[0;31mModuleNotFoundError\u001b[0m: No module named 'PyPDF2'",
            "",
            "\u001b[0;31m---------------------------------------------------------------------------\u001b[0;32m\nNOTE: If your import is failing due to a missing package, you can\nmanually install dependencies using either !pip or !apt.\n\nTo view examples of installing some common dependencies, click the\n\"Open Examples\" button below.\n\u001b[0;31m---------------------------------------------------------------------------\u001b[0m\n"
          ]
        }
      ],
      "source": [
        "import tkinter as tk\n",
        "from tkinter import filedialog\n",
        "import PyPDF2\n",
        "\n",
        "def deletenwl(text):\n",
        "    textlist = text.splitlines(True)\n",
        "    #print(textlist)\n",
        "    for i in range(len(textlist)):\n",
        "        if textlist[i].endswith(\"-\\n\"):\n",
        "            textlist[i] = textlist[i][0:-2]\n",
        "        if textlist[i].endswith(\".\\n\") :\n",
        "            pass\n",
        "        elif textlist[i].endswith(\"\\n\"):\n",
        "            textlist[i] = textlist[i][0:-1]\n",
        "    #print(textlist)\n",
        "    extext = ' '.join(textlist)\n",
        "\n",
        "    return extext\n",
        "\n",
        "\n",
        "# Estrae il testo dal pdf e ritorna una stringa.\n",
        "# E' possibile estrarre una pagina specifica modificando il parametro \"pagine\" (default \"all\")\n",
        "def getPDFtext(PDFname, pagine=\"all\", refine = False):\n",
        "    # Creo una stringa vuota (extended text)\n",
        "    extext = \"\"\n",
        "\n",
        "    # Creo l'oggetto PDF\n",
        "    pdfFileObj = open(\"./\" + PDFname, 'rb')\n",
        "\n",
        "    # Creo il lettore\n",
        "    document = PyPDF2.PdfReader(pdfFileObj, strict = True)\n",
        "\n",
        "    # Ottengo il numero delle pagine\n",
        "    paginenum = len(document.pages)\n",
        "\n",
        "    # Chiedo all'utente se desidera analizzare una pagina specifica o l'intero file o una slice\n",
        "    # (se il fie è maggiore di una pagina)\n",
        "    if paginenum > 1:\n",
        "        print(\"Il documento contiene\", paginenum, \"pagine\")\n",
        "        scelta = pagine\n",
        "\n",
        "            # Se sceglie l'intero documento\n",
        "        if scelta == \"all\":\n",
        "            for page in document.pages:\n",
        "                pagetext = page.extract_text()\n",
        "                extext = extext + pagetext\n",
        "\n",
        "            print(\"Testo completo estratto con successo \\n\")\n",
        "\n",
        "        elif \":\" in scelta and len(scelta) >= 3:\n",
        "            strt = \"\"\n",
        "            end = \"\"\n",
        "            for i2 in range(len(scelta)):\n",
        "                if scelta[i2] == \":\":\n",
        "                    strt = scelta[0:i2]\n",
        "                    end = scelta[i2+1:]\n",
        "\n",
        "            p1 = int(strt)\n",
        "            p2 = int(end)\n",
        "\n",
        "            # Cumulo le pagine\n",
        "            for page in document.pages[p1-2:p2]:\n",
        "                pagetext = page.extract_text()\n",
        "                extext = extext + pagetext\n",
        "\n",
        "            print(\"Testo estratto con successo (da pag. \" + str(p1) + \" a pagina \" + str(p2) + \")\\n\")\n",
        "\n",
        "        # Se sceglie una pagina specifica\n",
        "        else:\n",
        "            # Trasformo l'input in int e sottraggo per far corrispondere l'indice\n",
        "            scelta = int(scelta)\n",
        "            pagineObj = document.pages[scelta]\n",
        "            text = pagineObj.extractText()\n",
        "            extext = extext + text\n",
        "\n",
        "            print(\"Testo di pagina \" + str(scelta) + \" estratto con successo \\n\")\n",
        "    else:\n",
        "        # Estraggo la singola pagina\n",
        "        pagineObj = document.pages[0]\n",
        "        text = pagineObj.extractText()\n",
        "        extext = text[0]\n",
        "\n",
        "        print(\"Testo estratto con successo \\n\")\n",
        "\n",
        "    # Elimino le newlines\n",
        "    #extext = deletenwl(extext)\n",
        "\n",
        "    # Chiudo file PDF\n",
        "    pdfFileObj.close()\n",
        "    return deletenwl(extext)\n",
        "\n",
        "\n",
        "# Estraggo il testo con getPDFtext() e creo un file PDFtext.txt temporaneo nella cartella output, ritorna il nome del file come stringa\n",
        "def writePDFtxt(PDFname, filename, pagine=\"all\"):\n",
        "\n",
        "    PDFtext = getPDFtext(PDFname, pagine)\n",
        "\n",
        "    if filename == \"\":\n",
        "        filename = PDFname[0:-4]\n",
        "    with open(\"output/\" + filename + \".txt\", \"w\") as f:\n",
        "        f.write(PDFtext)\n",
        "\n",
        "    f.close\n",
        "    return PDFname\n",
        "\n",
        "\n",
        "#funzione principale che ottiene il nome del file .pdf e crea il file .txt\n",
        "##def pdftotxt(PDFfilename = argvfilename(\"pdf\"), pagine=argvpagenum()):\n",
        "\n",
        "#writePDFtxt(\"codice_civile.pdf\", \"codice_civile\")\n",
        "#print(\"File .txt creato!\\n\")\n",
        "\n",
        "\n"
      ]
    },
    {
      "cell_type": "code",
      "execution_count": 31,
      "metadata": {
        "id": "r924V9OMf5Eb"
      },
      "outputs": [],
      "source": [
        "import spacy\n",
        "from spacy.tokens import DocBin\n",
        "\n",
        "#UNDERSTAND\n",
        "# --> applica il modello al file di testo\n",
        "def getDoc(filename, modelname = \"model-last\", textdata = \"PDFtext.txt\", path = \"default\"):\n",
        "\n",
        "    if modelname == None or modelname == \"\":\n",
        "        modelname = argvfilename(\"\", \"none\", \"Inserisci il nome del modello \\n\")\n",
        "\n",
        "    if textdata == None or textdata == \"\":\n",
        "        textdata = argvfilename(\"\", \"txt\", \"Inserisci il nome del file di testo da analizzare [.txt] \\n\")\n",
        "\n",
        "    nlp_process = spacy.load(\"./models/\" + modelname)\n",
        "\n",
        "    text = readfile(\"output/\" + textdata)\n",
        "\n",
        "    if path == \"default\":\n",
        "        path = \"output/\"+filename\n",
        "    else:\n",
        "        path = path\n",
        "        if \"/\" not in filename[:-1]:\n",
        "            filename = filename + \"/\"\n",
        "\n",
        "    doc = nlp_process(text)\n",
        "    print (filename + \" terminato! \\n\")\n",
        "\n",
        "    return doc"
      ]
    },
    {
      "cell_type": "code",
      "execution_count": null,
      "metadata": {
        "id": "18VIUYnHf-nL"
      },
      "outputs": [],
      "source": [
        "## WRITE ##\n",
        "PDFname = \"esempio.pdf\"\n",
        "txtTitle = \"sistema\"\n",
        "pages =  \"all\""
      ]
    },
    {
      "cell_type": "code",
      "execution_count": null,
      "metadata": {
        "colab": {
          "base_uri": "https://localhost:8080/",
          "height": 86
        },
        "id": "xAinxAyagAaB",
        "outputId": "94ee100a-f466-4d20-c7a1-97fa718c3e39"
      },
      "outputs": [
        {
          "name": "stdout",
          "output_type": "stream",
          "text": [
            "Il documento contiene 56 pagine\n",
            "Testo completo estratto con successo \n",
            "\n"
          ]
        },
        {
          "data": {
            "application/vnd.google.colaboratory.intrinsic+json": {
              "type": "string"
            },
            "text/plain": [
              "'esempio.pdf'"
            ]
          },
          "execution_count": 45,
          "metadata": {},
          "output_type": "execute_result"
        }
      ],
      "source": [
        "writePDFtxt(PDFname, txtTitle, pages)"
      ]
    },
    {
      "cell_type": "code",
      "execution_count": 34,
      "metadata": {
        "id": "Iud9mMMngh4Q"
      },
      "outputs": [],
      "source": [
        "## READ ##\n",
        "process_name = \"artdetector\"\n",
        "model = \"model-last\"\n",
        "text = \"sistema.txt\"\n",
        "path = \"default\""
      ]
    },
    {
      "cell_type": "code",
      "execution_count": 41,
      "metadata": {
        "colab": {
          "base_uri": "https://localhost:8080/",
          "height": 385
        },
        "id": "bzeP6q-OgP-H",
        "outputId": "23b3c834-954b-4da8-9ed8-3941bf3ab180"
      },
      "outputs": [
        {
          "ename": "RegistryError",
          "evalue": "ignored",
          "output_type": "error",
          "traceback": [
            "\u001b[0;31m---------------------------------------------------------------------------\u001b[0m",
            "\u001b[0;31mRegistryError\u001b[0m                             Traceback (most recent call last)",
            "\u001b[0;32m<ipython-input-41-ed303cac8867>\u001b[0m in \u001b[0;36m<cell line: 1>\u001b[0;34m()\u001b[0m\n\u001b[0;32m----> 1\u001b[0;31m \u001b[0mdoc_\u001b[0m \u001b[0;34m=\u001b[0m \u001b[0mgetDoc\u001b[0m\u001b[0;34m(\u001b[0m\u001b[0mprocess_name\u001b[0m\u001b[0;34m,\u001b[0m \u001b[0mmodel\u001b[0m\u001b[0;34m,\u001b[0m \u001b[0mtext\u001b[0m\u001b[0;34m,\u001b[0m \u001b[0mpath\u001b[0m\u001b[0;34m)\u001b[0m\u001b[0;34m\u001b[0m\u001b[0;34m\u001b[0m\u001b[0m\n\u001b[0m",
            "\u001b[0;32m<ipython-input-31-0f64effa154b>\u001b[0m in \u001b[0;36mgetDoc\u001b[0;34m(filename, modelname, textdata, path)\u001b[0m\n\u001b[1;32m     12\u001b[0m         \u001b[0mtextdata\u001b[0m \u001b[0;34m=\u001b[0m \u001b[0margvfilename\u001b[0m\u001b[0;34m(\u001b[0m\u001b[0;34m\"\"\u001b[0m\u001b[0;34m,\u001b[0m \u001b[0;34m\"txt\"\u001b[0m\u001b[0;34m,\u001b[0m \u001b[0;34m\"Inserisci il nome del file di testo da analizzare [.txt] \\n\"\u001b[0m\u001b[0;34m)\u001b[0m\u001b[0;34m\u001b[0m\u001b[0;34m\u001b[0m\u001b[0m\n\u001b[1;32m     13\u001b[0m \u001b[0;34m\u001b[0m\u001b[0m\n\u001b[0;32m---> 14\u001b[0;31m     \u001b[0mnlp_process\u001b[0m \u001b[0;34m=\u001b[0m \u001b[0mspacy\u001b[0m\u001b[0;34m.\u001b[0m\u001b[0mload\u001b[0m\u001b[0;34m(\u001b[0m\u001b[0;34m\"./models/\"\u001b[0m \u001b[0;34m+\u001b[0m \u001b[0mmodelname\u001b[0m\u001b[0;34m)\u001b[0m\u001b[0;34m\u001b[0m\u001b[0;34m\u001b[0m\u001b[0m\n\u001b[0m\u001b[1;32m     15\u001b[0m \u001b[0;34m\u001b[0m\u001b[0m\n\u001b[1;32m     16\u001b[0m     \u001b[0mtext\u001b[0m \u001b[0;34m=\u001b[0m \u001b[0mreadfile\u001b[0m\u001b[0;34m(\u001b[0m\u001b[0;34m\"output/\"\u001b[0m \u001b[0;34m+\u001b[0m \u001b[0mtextdata\u001b[0m\u001b[0;34m)\u001b[0m\u001b[0;34m\u001b[0m\u001b[0;34m\u001b[0m\u001b[0m\n",
            "\u001b[0;32m/usr/local/lib/python3.10/dist-packages/spacy/__init__.py\u001b[0m in \u001b[0;36mload\u001b[0;34m(name, vocab, disable, enable, exclude, config)\u001b[0m\n\u001b[1;32m     49\u001b[0m     \u001b[0mRETURNS\u001b[0m \u001b[0;34m(\u001b[0m\u001b[0mLanguage\u001b[0m\u001b[0;34m)\u001b[0m\u001b[0;34m:\u001b[0m \u001b[0mThe\u001b[0m \u001b[0mloaded\u001b[0m \u001b[0mnlp\u001b[0m \u001b[0mobject\u001b[0m\u001b[0;34m.\u001b[0m\u001b[0;34m\u001b[0m\u001b[0;34m\u001b[0m\u001b[0m\n\u001b[1;32m     50\u001b[0m     \"\"\"\n\u001b[0;32m---> 51\u001b[0;31m     return util.load_model(\n\u001b[0m\u001b[1;32m     52\u001b[0m         \u001b[0mname\u001b[0m\u001b[0;34m,\u001b[0m\u001b[0;34m\u001b[0m\u001b[0;34m\u001b[0m\u001b[0m\n\u001b[1;32m     53\u001b[0m         \u001b[0mvocab\u001b[0m\u001b[0;34m=\u001b[0m\u001b[0mvocab\u001b[0m\u001b[0;34m,\u001b[0m\u001b[0;34m\u001b[0m\u001b[0;34m\u001b[0m\u001b[0m\n",
            "\u001b[0;32m/usr/local/lib/python3.10/dist-packages/spacy/util.py\u001b[0m in \u001b[0;36mload_model\u001b[0;34m(name, vocab, disable, enable, exclude, config)\u001b[0m\n\u001b[1;32m    465\u001b[0m             \u001b[0;32mreturn\u001b[0m \u001b[0mload_model_from_package\u001b[0m\u001b[0;34m(\u001b[0m\u001b[0mname\u001b[0m\u001b[0;34m,\u001b[0m \u001b[0;34m**\u001b[0m\u001b[0mkwargs\u001b[0m\u001b[0;34m)\u001b[0m  \u001b[0;31m# type: ignore[arg-type]\u001b[0m\u001b[0;34m\u001b[0m\u001b[0;34m\u001b[0m\u001b[0m\n\u001b[1;32m    466\u001b[0m         \u001b[0;32mif\u001b[0m \u001b[0mPath\u001b[0m\u001b[0;34m(\u001b[0m\u001b[0mname\u001b[0m\u001b[0;34m)\u001b[0m\u001b[0;34m.\u001b[0m\u001b[0mexists\u001b[0m\u001b[0;34m(\u001b[0m\u001b[0;34m)\u001b[0m\u001b[0;34m:\u001b[0m  \u001b[0;31m# path to model data directory\u001b[0m\u001b[0;34m\u001b[0m\u001b[0;34m\u001b[0m\u001b[0m\n\u001b[0;32m--> 467\u001b[0;31m             \u001b[0;32mreturn\u001b[0m \u001b[0mload_model_from_path\u001b[0m\u001b[0;34m(\u001b[0m\u001b[0mPath\u001b[0m\u001b[0;34m(\u001b[0m\u001b[0mname\u001b[0m\u001b[0;34m)\u001b[0m\u001b[0;34m,\u001b[0m \u001b[0;34m**\u001b[0m\u001b[0mkwargs\u001b[0m\u001b[0;34m)\u001b[0m  \u001b[0;31m# type: ignore[arg-type]\u001b[0m\u001b[0;34m\u001b[0m\u001b[0;34m\u001b[0m\u001b[0m\n\u001b[0m\u001b[1;32m    468\u001b[0m     \u001b[0;32melif\u001b[0m \u001b[0mhasattr\u001b[0m\u001b[0;34m(\u001b[0m\u001b[0mname\u001b[0m\u001b[0;34m,\u001b[0m \u001b[0;34m\"exists\"\u001b[0m\u001b[0;34m)\u001b[0m\u001b[0;34m:\u001b[0m  \u001b[0;31m# Path or Path-like to model data\u001b[0m\u001b[0;34m\u001b[0m\u001b[0;34m\u001b[0m\u001b[0m\n\u001b[1;32m    469\u001b[0m         \u001b[0;32mreturn\u001b[0m \u001b[0mload_model_from_path\u001b[0m\u001b[0;34m(\u001b[0m\u001b[0mname\u001b[0m\u001b[0;34m,\u001b[0m \u001b[0;34m**\u001b[0m\u001b[0mkwargs\u001b[0m\u001b[0;34m)\u001b[0m  \u001b[0;31m# type: ignore[arg-type]\u001b[0m\u001b[0;34m\u001b[0m\u001b[0;34m\u001b[0m\u001b[0m\n",
            "\u001b[0;32m/usr/local/lib/python3.10/dist-packages/spacy/util.py\u001b[0m in \u001b[0;36mload_model_from_path\u001b[0;34m(model_path, meta, vocab, disable, enable, exclude, config)\u001b[0m\n\u001b[1;32m    537\u001b[0m     \u001b[0moverrides\u001b[0m \u001b[0;34m=\u001b[0m \u001b[0mdict_to_dot\u001b[0m\u001b[0;34m(\u001b[0m\u001b[0mconfig\u001b[0m\u001b[0;34m,\u001b[0m \u001b[0mfor_overrides\u001b[0m\u001b[0;34m=\u001b[0m\u001b[0;32mTrue\u001b[0m\u001b[0;34m)\u001b[0m\u001b[0;34m\u001b[0m\u001b[0;34m\u001b[0m\u001b[0m\n\u001b[1;32m    538\u001b[0m     \u001b[0mconfig\u001b[0m \u001b[0;34m=\u001b[0m \u001b[0mload_config\u001b[0m\u001b[0;34m(\u001b[0m\u001b[0mconfig_path\u001b[0m\u001b[0;34m,\u001b[0m \u001b[0moverrides\u001b[0m\u001b[0;34m=\u001b[0m\u001b[0moverrides\u001b[0m\u001b[0;34m)\u001b[0m\u001b[0;34m\u001b[0m\u001b[0;34m\u001b[0m\u001b[0m\n\u001b[0;32m--> 539\u001b[0;31m     nlp = load_model_from_config(\n\u001b[0m\u001b[1;32m    540\u001b[0m         \u001b[0mconfig\u001b[0m\u001b[0;34m,\u001b[0m\u001b[0;34m\u001b[0m\u001b[0;34m\u001b[0m\u001b[0m\n\u001b[1;32m    541\u001b[0m         \u001b[0mvocab\u001b[0m\u001b[0;34m=\u001b[0m\u001b[0mvocab\u001b[0m\u001b[0;34m,\u001b[0m\u001b[0;34m\u001b[0m\u001b[0;34m\u001b[0m\u001b[0m\n",
            "\u001b[0;32m/usr/local/lib/python3.10/dist-packages/spacy/util.py\u001b[0m in \u001b[0;36mload_model_from_config\u001b[0;34m(config, meta, vocab, disable, enable, exclude, auto_fill, validate)\u001b[0m\n\u001b[1;32m    585\u001b[0m     \u001b[0;31m# registry, including custom subclasses provided via entry points\u001b[0m\u001b[0;34m\u001b[0m\u001b[0;34m\u001b[0m\u001b[0m\n\u001b[1;32m    586\u001b[0m     \u001b[0mlang_cls\u001b[0m \u001b[0;34m=\u001b[0m \u001b[0mget_lang_class\u001b[0m\u001b[0;34m(\u001b[0m\u001b[0mnlp_config\u001b[0m\u001b[0;34m[\u001b[0m\u001b[0;34m\"lang\"\u001b[0m\u001b[0;34m]\u001b[0m\u001b[0;34m)\u001b[0m\u001b[0;34m\u001b[0m\u001b[0;34m\u001b[0m\u001b[0m\n\u001b[0;32m--> 587\u001b[0;31m     nlp = lang_cls.from_config(\n\u001b[0m\u001b[1;32m    588\u001b[0m         \u001b[0mconfig\u001b[0m\u001b[0;34m,\u001b[0m\u001b[0;34m\u001b[0m\u001b[0;34m\u001b[0m\u001b[0m\n\u001b[1;32m    589\u001b[0m         \u001b[0mvocab\u001b[0m\u001b[0;34m=\u001b[0m\u001b[0mvocab\u001b[0m\u001b[0;34m,\u001b[0m\u001b[0;34m\u001b[0m\u001b[0;34m\u001b[0m\u001b[0m\n",
            "\u001b[0;32m/usr/local/lib/python3.10/dist-packages/spacy/language.py\u001b[0m in \u001b[0;36mfrom_config\u001b[0;34m(cls, config, vocab, disable, enable, exclude, meta, auto_fill, validate)\u001b[0m\n\u001b[1;32m   1792\u001b[0m             \u001b[0mfilled\u001b[0m\u001b[0;34m[\u001b[0m\u001b[0;34m\"pretraining\"\u001b[0m\u001b[0;34m]\u001b[0m \u001b[0;34m=\u001b[0m \u001b[0morig_pretraining\u001b[0m\u001b[0;34m\u001b[0m\u001b[0;34m\u001b[0m\u001b[0m\n\u001b[1;32m   1793\u001b[0m             \u001b[0mconfig\u001b[0m\u001b[0;34m[\u001b[0m\u001b[0;34m\"pretraining\"\u001b[0m\u001b[0;34m]\u001b[0m \u001b[0;34m=\u001b[0m \u001b[0morig_pretraining\u001b[0m\u001b[0;34m\u001b[0m\u001b[0;34m\u001b[0m\u001b[0m\n\u001b[0;32m-> 1794\u001b[0;31m         resolved_nlp = registry.resolve(\n\u001b[0m\u001b[1;32m   1795\u001b[0m             \u001b[0mfilled\u001b[0m\u001b[0;34m[\u001b[0m\u001b[0;34m\"nlp\"\u001b[0m\u001b[0;34m]\u001b[0m\u001b[0;34m,\u001b[0m \u001b[0mvalidate\u001b[0m\u001b[0;34m=\u001b[0m\u001b[0mvalidate\u001b[0m\u001b[0;34m,\u001b[0m \u001b[0mschema\u001b[0m\u001b[0;34m=\u001b[0m\u001b[0mConfigSchemaNlp\u001b[0m\u001b[0;34m\u001b[0m\u001b[0;34m\u001b[0m\u001b[0m\n\u001b[1;32m   1796\u001b[0m         )\n",
            "\u001b[0;32m/usr/local/lib/python3.10/dist-packages/confection/__init__.py\u001b[0m in \u001b[0;36mresolve\u001b[0;34m(cls, config, schema, overrides, validate)\u001b[0m\n\u001b[1;32m    754\u001b[0m         \u001b[0mvalidate\u001b[0m\u001b[0;34m:\u001b[0m \u001b[0mbool\u001b[0m \u001b[0;34m=\u001b[0m \u001b[0;32mTrue\u001b[0m\u001b[0;34m,\u001b[0m\u001b[0;34m\u001b[0m\u001b[0;34m\u001b[0m\u001b[0m\n\u001b[1;32m    755\u001b[0m     ) -> Dict[str, Any]:\n\u001b[0;32m--> 756\u001b[0;31m         resolved, _ = cls._make(\n\u001b[0m\u001b[1;32m    757\u001b[0m             \u001b[0mconfig\u001b[0m\u001b[0;34m,\u001b[0m \u001b[0mschema\u001b[0m\u001b[0;34m=\u001b[0m\u001b[0mschema\u001b[0m\u001b[0;34m,\u001b[0m \u001b[0moverrides\u001b[0m\u001b[0;34m=\u001b[0m\u001b[0moverrides\u001b[0m\u001b[0;34m,\u001b[0m \u001b[0mvalidate\u001b[0m\u001b[0;34m=\u001b[0m\u001b[0mvalidate\u001b[0m\u001b[0;34m,\u001b[0m \u001b[0mresolve\u001b[0m\u001b[0;34m=\u001b[0m\u001b[0;32mTrue\u001b[0m\u001b[0;34m\u001b[0m\u001b[0;34m\u001b[0m\u001b[0m\n\u001b[1;32m    758\u001b[0m         )\n",
            "\u001b[0;32m/usr/local/lib/python3.10/dist-packages/confection/__init__.py\u001b[0m in \u001b[0;36m_make\u001b[0;34m(cls, config, schema, overrides, resolve, validate)\u001b[0m\n\u001b[1;32m    803\u001b[0m         \u001b[0;32mif\u001b[0m \u001b[0;32mnot\u001b[0m \u001b[0mis_interpolated\u001b[0m\u001b[0;34m:\u001b[0m\u001b[0;34m\u001b[0m\u001b[0;34m\u001b[0m\u001b[0m\n\u001b[1;32m    804\u001b[0m             \u001b[0mconfig\u001b[0m \u001b[0;34m=\u001b[0m \u001b[0mConfig\u001b[0m\u001b[0;34m(\u001b[0m\u001b[0morig_config\u001b[0m\u001b[0;34m)\u001b[0m\u001b[0;34m.\u001b[0m\u001b[0minterpolate\u001b[0m\u001b[0;34m(\u001b[0m\u001b[0;34m)\u001b[0m\u001b[0;34m\u001b[0m\u001b[0;34m\u001b[0m\u001b[0m\n\u001b[0;32m--> 805\u001b[0;31m         filled, _, resolved = cls._fill(\n\u001b[0m\u001b[1;32m    806\u001b[0m             \u001b[0mconfig\u001b[0m\u001b[0;34m,\u001b[0m \u001b[0mschema\u001b[0m\u001b[0;34m,\u001b[0m \u001b[0mvalidate\u001b[0m\u001b[0;34m=\u001b[0m\u001b[0mvalidate\u001b[0m\u001b[0;34m,\u001b[0m \u001b[0moverrides\u001b[0m\u001b[0;34m=\u001b[0m\u001b[0moverrides\u001b[0m\u001b[0;34m,\u001b[0m \u001b[0mresolve\u001b[0m\u001b[0;34m=\u001b[0m\u001b[0mresolve\u001b[0m\u001b[0;34m\u001b[0m\u001b[0;34m\u001b[0m\u001b[0m\n\u001b[1;32m    807\u001b[0m         )\n",
            "\u001b[0;32m/usr/local/lib/python3.10/dist-packages/confection/__init__.py\u001b[0m in \u001b[0;36m_fill\u001b[0;34m(cls, config, schema, validate, resolve, parent, overrides)\u001b[0m\n\u001b[1;32m    857\u001b[0m                     \u001b[0mfield\u001b[0m \u001b[0;34m=\u001b[0m \u001b[0mschema\u001b[0m\u001b[0;34m.\u001b[0m\u001b[0m__fields__\u001b[0m\u001b[0;34m[\u001b[0m\u001b[0mkey\u001b[0m\u001b[0;34m]\u001b[0m\u001b[0;34m\u001b[0m\u001b[0;34m\u001b[0m\u001b[0m\n\u001b[1;32m    858\u001b[0m                     \u001b[0mschema\u001b[0m\u001b[0;34m.\u001b[0m\u001b[0m__fields__\u001b[0m\u001b[0;34m[\u001b[0m\u001b[0mkey\u001b[0m\u001b[0;34m]\u001b[0m \u001b[0;34m=\u001b[0m \u001b[0mcopy_model_field\u001b[0m\u001b[0;34m(\u001b[0m\u001b[0mfield\u001b[0m\u001b[0;34m,\u001b[0m \u001b[0mAny\u001b[0m\u001b[0;34m)\u001b[0m\u001b[0;34m\u001b[0m\u001b[0;34m\u001b[0m\u001b[0m\n\u001b[0;32m--> 859\u001b[0;31m                 \u001b[0mpromise_schema\u001b[0m \u001b[0;34m=\u001b[0m \u001b[0mcls\u001b[0m\u001b[0;34m.\u001b[0m\u001b[0mmake_promise_schema\u001b[0m\u001b[0;34m(\u001b[0m\u001b[0mvalue\u001b[0m\u001b[0;34m,\u001b[0m \u001b[0mresolve\u001b[0m\u001b[0;34m=\u001b[0m\u001b[0mresolve\u001b[0m\u001b[0;34m)\u001b[0m\u001b[0;34m\u001b[0m\u001b[0;34m\u001b[0m\u001b[0m\n\u001b[0m\u001b[1;32m    860\u001b[0m                 filled[key], validation[v_key], final[key] = cls._fill(\n\u001b[1;32m    861\u001b[0m                     \u001b[0mvalue\u001b[0m\u001b[0;34m,\u001b[0m\u001b[0;34m\u001b[0m\u001b[0;34m\u001b[0m\u001b[0m\n",
            "\u001b[0;32m/usr/local/lib/python3.10/dist-packages/confection/__init__.py\u001b[0m in \u001b[0;36mmake_promise_schema\u001b[0;34m(cls, obj, resolve)\u001b[0m\n\u001b[1;32m   1049\u001b[0m         \u001b[0;32mif\u001b[0m \u001b[0;32mnot\u001b[0m \u001b[0mresolve\u001b[0m \u001b[0;32mand\u001b[0m \u001b[0;32mnot\u001b[0m \u001b[0mcls\u001b[0m\u001b[0;34m.\u001b[0m\u001b[0mhas\u001b[0m\u001b[0;34m(\u001b[0m\u001b[0mreg_name\u001b[0m\u001b[0;34m,\u001b[0m \u001b[0mfunc_name\u001b[0m\u001b[0;34m)\u001b[0m\u001b[0;34m:\u001b[0m\u001b[0;34m\u001b[0m\u001b[0;34m\u001b[0m\u001b[0m\n\u001b[1;32m   1050\u001b[0m             \u001b[0;32mreturn\u001b[0m \u001b[0mEmptySchema\u001b[0m\u001b[0;34m\u001b[0m\u001b[0;34m\u001b[0m\u001b[0m\n\u001b[0;32m-> 1051\u001b[0;31m         \u001b[0mfunc\u001b[0m \u001b[0;34m=\u001b[0m \u001b[0mcls\u001b[0m\u001b[0;34m.\u001b[0m\u001b[0mget\u001b[0m\u001b[0;34m(\u001b[0m\u001b[0mreg_name\u001b[0m\u001b[0;34m,\u001b[0m \u001b[0mfunc_name\u001b[0m\u001b[0;34m)\u001b[0m\u001b[0;34m\u001b[0m\u001b[0;34m\u001b[0m\u001b[0m\n\u001b[0m\u001b[1;32m   1052\u001b[0m         \u001b[0;31m# Read the argument annotations and defaults from the function signature\u001b[0m\u001b[0;34m\u001b[0m\u001b[0;34m\u001b[0m\u001b[0m\n\u001b[1;32m   1053\u001b[0m         \u001b[0mid_keys\u001b[0m \u001b[0;34m=\u001b[0m \u001b[0;34m[\u001b[0m\u001b[0mk\u001b[0m \u001b[0;32mfor\u001b[0m \u001b[0mk\u001b[0m \u001b[0;32min\u001b[0m \u001b[0mobj\u001b[0m\u001b[0;34m.\u001b[0m\u001b[0mkeys\u001b[0m\u001b[0;34m(\u001b[0m\u001b[0;34m)\u001b[0m \u001b[0;32mif\u001b[0m \u001b[0mk\u001b[0m\u001b[0;34m.\u001b[0m\u001b[0mstartswith\u001b[0m\u001b[0;34m(\u001b[0m\u001b[0;34m\"@\"\u001b[0m\u001b[0;34m)\u001b[0m\u001b[0;34m]\u001b[0m\u001b[0;34m\u001b[0m\u001b[0;34m\u001b[0m\u001b[0m\n",
            "\u001b[0;32m/usr/local/lib/python3.10/dist-packages/spacy/util.py\u001b[0m in \u001b[0;36mget\u001b[0;34m(cls, registry_name, func_name)\u001b[0m\n\u001b[1;32m    149\u001b[0m         \u001b[0;32mif\u001b[0m \u001b[0;32mnot\u001b[0m \u001b[0mhasattr\u001b[0m\u001b[0;34m(\u001b[0m\u001b[0mcls\u001b[0m\u001b[0;34m,\u001b[0m \u001b[0mregistry_name\u001b[0m\u001b[0;34m)\u001b[0m\u001b[0;34m:\u001b[0m\u001b[0;34m\u001b[0m\u001b[0;34m\u001b[0m\u001b[0m\n\u001b[1;32m    150\u001b[0m             \u001b[0mnames\u001b[0m \u001b[0;34m=\u001b[0m \u001b[0;34m\", \"\u001b[0m\u001b[0;34m.\u001b[0m\u001b[0mjoin\u001b[0m\u001b[0;34m(\u001b[0m\u001b[0mcls\u001b[0m\u001b[0;34m.\u001b[0m\u001b[0mget_registry_names\u001b[0m\u001b[0;34m(\u001b[0m\u001b[0;34m)\u001b[0m\u001b[0;34m)\u001b[0m \u001b[0;32mor\u001b[0m \u001b[0;34m\"none\"\u001b[0m\u001b[0;34m\u001b[0m\u001b[0;34m\u001b[0m\u001b[0m\n\u001b[0;32m--> 151\u001b[0;31m             \u001b[0;32mraise\u001b[0m \u001b[0mRegistryError\u001b[0m\u001b[0;34m(\u001b[0m\u001b[0mErrors\u001b[0m\u001b[0;34m.\u001b[0m\u001b[0mE892\u001b[0m\u001b[0;34m.\u001b[0m\u001b[0mformat\u001b[0m\u001b[0;34m(\u001b[0m\u001b[0mname\u001b[0m\u001b[0;34m=\u001b[0m\u001b[0mregistry_name\u001b[0m\u001b[0;34m,\u001b[0m \u001b[0mavailable\u001b[0m\u001b[0;34m=\u001b[0m\u001b[0mnames\u001b[0m\u001b[0;34m)\u001b[0m\u001b[0;34m)\u001b[0m\u001b[0;34m\u001b[0m\u001b[0;34m\u001b[0m\u001b[0m\n\u001b[0m\u001b[1;32m    152\u001b[0m         \u001b[0mreg\u001b[0m \u001b[0;34m=\u001b[0m \u001b[0mgetattr\u001b[0m\u001b[0;34m(\u001b[0m\u001b[0mcls\u001b[0m\u001b[0;34m,\u001b[0m \u001b[0mregistry_name\u001b[0m\u001b[0;34m)\u001b[0m\u001b[0;34m\u001b[0m\u001b[0;34m\u001b[0m\u001b[0m\n\u001b[1;32m    153\u001b[0m         \u001b[0;32mtry\u001b[0m\u001b[0;34m:\u001b[0m\u001b[0;34m\u001b[0m\u001b[0;34m\u001b[0m\u001b[0m\n",
            "\u001b[0;31mRegistryError\u001b[0m: [E892] Unknown function registry: 'vectors'.\n\nAvailable names: architectures, augmenters, batchers, callbacks, cli, datasets, displacy_colors, factories, initializers, languages, layers, lemmatizers, loggers, lookups, losses, misc, models, ops, optimizers, readers, schedules, scorers, tokenizers"
          ]
        }
      ],
      "source": [
        "doc_ = getDoc(process_name, model, text, path)"
      ]
    },
    {
      "cell_type": "code",
      "execution_count": null,
      "metadata": {
        "id": "L70JuM8NgReY"
      },
      "outputs": [],
      "source": [
        "## EXPlAIN ##\n",
        "label = \"DECRETO LEGISLATIVO\""
      ]
    },
    {
      "cell_type": "code",
      "execution_count": null,
      "metadata": {
        "id": "ou9LUvCcgTau"
      },
      "outputs": [],
      "source": [
        "for i in range(len(doc_.ents)):\n",
        "        if doc_.ents[i].label_ == label:\n",
        "                print(doc_.ents[i])"
      ]
    }
  ],
  "metadata": {
    "colab": {
      "collapsed_sections": [
        "BorLsTAYkPxh"
      ],
      "provenance": []
    },
    "kernelspec": {
      "display_name": "Python 3",
      "name": "python3"
    },
    "language_info": {
      "codemirror_mode": {
        "name": "ipython",
        "version": 3
      },
      "file_extension": ".py",
      "mimetype": "text/x-python",
      "name": "python",
      "nbconvert_exporter": "python",
      "pygments_lexer": "ipython3",
      "version": "3.11.0"
    }
  },
  "nbformat": 4,
  "nbformat_minor": 0
}
